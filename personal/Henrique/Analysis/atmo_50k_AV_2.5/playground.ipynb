{
 "cells": [
  {
   "cell_type": "code",
   "execution_count": 26,
   "metadata": {},
   "outputs": [],
   "source": [
    "import particle as pt\n",
    "import uproot\n",
    "import awkward as ak\n",
    "import numpy as np\n",
    "import matplotlib.pyplot as plt\n",
    "import pandas as pd\n",
    "import mplhep\n",
    "from scipy.stats import norm\n",
    "from scipy.optimize import curve_fit\n",
    "import matplotlib.mlab as mlab\n",
    "import time\n",
    "from matplotlib.colors import LogNorm\n",
    "mplhep.style.use(mplhep.style.ROOT)\n",
    "from pprint import pprint\n",
    "from tqdm import tqdm\n",
    "import polars as pl\n",
    "import sys\n",
    "\n",
    "sys.path.append('/home/henrique/Documents/Atmos_Pandora/apc_atmo_repo/personal/Henrique/anatree_polars_ana/')\n",
    "from ana_tree_class import Anatree\n",
    "\n",
    "# plt.rcParams.update({'font.size': 14})\n",
    "plt.rcParams['axes.grid'] = True\n",
    "plt.rcParams['grid.linestyle'] = '--'\n",
    "\n",
    "anatree:Anatree\n",
    "anatree.tree:uproot.TTree"
   ]
  },
  {
   "cell_type": "code",
   "execution_count": 4,
   "metadata": {},
   "outputs": [
    {
     "name": "stdout",
     "output_type": "stream",
     "text": [
      "Loading nu infos\n"
     ]
    },
    {
     "name": "stderr",
     "output_type": "stream",
     "text": [
      "100%|██████████| 3/3 [00:00<00:00, 11.90it/s]\n"
     ]
    },
    {
     "name": "stdout",
     "output_type": "stream",
     "text": [
      "Loading geant infos\n"
     ]
    },
    {
     "name": "stderr",
     "output_type": "stream",
     "text": [
      "100%|██████████| 69/69 [00:10<00:00,  6.64it/s]\n"
     ]
    },
    {
     "name": "stdout",
     "output_type": "stream",
     "text": [
      "Loading shower infos\n"
     ]
    },
    {
     "name": "stderr",
     "output_type": "stream",
     "text": [
      "100%|██████████| 19/19 [00:01<00:00, 12.83it/s]\n"
     ]
    },
    {
     "name": "stdout",
     "output_type": "stream",
     "text": [
      "Loading track infos\n"
     ]
    },
    {
     "name": "stderr",
     "output_type": "stream",
     "text": [
      "100%|██████████| 66/66 [00:05<00:00, 12.12it/s]\n"
     ]
    }
   ],
   "source": [
    "anatree = Anatree(\"/home/henrique/Documents/Atmos_Pandora/data/atm_50k_hd_AV/anatree_hd_AV_sum.root\")"
   ]
  },
  {
   "cell_type": "code",
   "execution_count": 5,
   "metadata": {},
   "outputs": [],
   "source": [
    "geant = pl.from_pandas(anatree.geant)\n",
    "nu = pl.from_pandas(anatree.nu)\n",
    "shw = pl.from_pandas(anatree.reco_showers)\n",
    "tracks = pl.from_pandas(anatree.reco_tracks)"
   ]
  },
  {
   "cell_type": "code",
   "execution_count": 37,
   "metadata": {},
   "outputs": [],
   "source": [
    "caf = uproot.open(path='/home/henrique/Documents/Atmos_Pandora/data/atm_50k_hd_AV/caf_sum.root:cafTree')\n",
    "caf_data = caf.arrays()"
   ]
  },
  {
   "cell_type": "code",
   "execution_count": 47,
   "metadata": {},
   "outputs": [
    {
     "data": {
      "text/html": [
       "<pre>[0.000228,\n",
       " 0.000156,\n",
       " nan,\n",
       " 4.3e-05,\n",
       " 0.275,\n",
       " nan,\n",
       " 0.000318,\n",
       " nan,\n",
       " 0.00304,\n",
       " nan,\n",
       " ...,\n",
       " nan,\n",
       " 0.0525,\n",
       " 5.32e-05,\n",
       " nan,\n",
       " nan,\n",
       " 0.977,\n",
       " nan,\n",
       " 0.961,\n",
       " nan]\n",
       "---------------------\n",
       "type: 49900 * float32</pre>"
      ],
      "text/plain": [
       "<Array [0.000228, 0.000156, nan, ..., nan, 0.961, nan] type='49900 * float32'>"
      ]
     },
     "execution_count": 47,
     "metadata": {},
     "output_type": "execute_result"
    }
   ],
   "source": [
    "caf_data['rec.cvnnumu']\n"
   ]
  }
 ],
 "metadata": {
  "kernelspec": {
   "display_name": "Python 3",
   "language": "python",
   "name": "python3"
  },
  "language_info": {
   "codemirror_mode": {
    "name": "ipython",
    "version": 3
   },
   "file_extension": ".py",
   "mimetype": "text/x-python",
   "name": "python",
   "nbconvert_exporter": "python",
   "pygments_lexer": "ipython3",
   "version": "3.10.6"
  },
  "orig_nbformat": 4
 },
 "nbformat": 4,
 "nbformat_minor": 2
}
