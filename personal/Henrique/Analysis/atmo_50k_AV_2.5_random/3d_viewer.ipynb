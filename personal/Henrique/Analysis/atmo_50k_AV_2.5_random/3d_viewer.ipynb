{
 "cells": [
  {
   "cell_type": "code",
   "execution_count": 1,
   "metadata": {},
   "outputs": [],
   "source": [
    "\n",
    "%load_ext autoreload\n",
    "%autoreload 2\n",
    "\n",
    "import particle as pt\n",
    "import uproot\n",
    "import awkward as ak\n",
    "import numpy as np\n",
    "import matplotlib.pyplot as plt\n",
    "import pandas as pd\n",
    "import mplhep\n",
    "from scipy.stats import norm\n",
    "from scipy.optimize import curve_fit\n",
    "import matplotlib.mlab as mlab\n",
    "import time\n",
    "from matplotlib.colors import LogNorm\n",
    "mplhep.style.use(mplhep.style.ROOT)\n",
    "from pprint import pprint\n",
    "from tqdm import tqdm\n",
    "import polars as pl\n",
    "import sys\n",
    "import os\n",
    "import particle\n",
    "# using getlogin() returning username\n",
    "user_name = os.getlogin()\n",
    "\n",
    "sys.path.append(f'/home/{user_name}/Documents/cernbox/Atmos_Pandora/apc_atmo_repo/Anatree/')\n",
    "from anatree_class import Anatree\n",
    "from  ana_tools import *\n",
    "\n",
    "\n",
    "plt.rcParams.update({'font.size': 16,\n",
    "                     'grid.linestyle': '--',\n",
    "                     'axes.grid': True,\n",
    "                     'figure.autolayout': True,\n",
    "                     'figure.figsize': [14,6]\n",
    "                     })\n",
    "\n",
    "anatree:Anatree\n",
    "\n",
    "def selection_events(extras = ['']):\n",
    "    r = ['subrun', 'event']\n",
    "    if extras != ['']:\n",
    "        r = r + extras\n",
    "    return r\n",
    "def get_event(subrun=0, event=1):\n",
    "    return (pl.col('subrun')==subrun) & (pl.col('event') == event)"
   ]
  },
  {
   "cell_type": "code",
   "execution_count": 2,
   "metadata": {},
   "outputs": [
    {
     "name": "stdout",
     "output_type": "stream",
     "text": [
      "Reading nu files... 6/6\n",
      "Reading geant files... 6/6\n",
      "Reading reco_tracks files... 6/6\n",
      "Reading reco_showers files... 6/6\n",
      "\n"
     ]
    }
   ],
   "source": [
    "anatree = Anatree(\"/home/henrique/Documents/cernbox/Atmos_Pandora/data/atm_50k_hd_AV_2.5_random/anatree_hd_AV_2dot5_random_sum_300k.root\", entry_start=0, entry_stop=1000, load_data=False)\n",
    "anatree.tree:uproot.TTree\n",
    "anatree.read_parquet('../../../../../data/atm_50k_hd_AV_2.5_random/parquet',batches=-1, concat=False)#, types=['nu','reco_tracks','reco_showers'])#, n_rows=100)"
   ]
  },
  {
   "cell_type": "code",
   "execution_count": 3,
   "metadata": {},
   "outputs": [],
   "source": [
    "nu = anatree.nu\n",
    "geant = anatree.geant\n",
    "shw = anatree.reco_showers\n",
    "tracks = anatree.reco_tracks\n",
    "showers = anatree.reco_showers\n",
    "merged = 0\n",
    "\n",
    "shw = 0\n",
    "\n",
    "for i,n in enumerate(nu):\n",
    "    df = anatree.get_full_reco_tracks(tracks[i], geant[i], nu[i])\n",
    "    dfs = showers[i]\n",
    "    # df = df.head(2000)\n",
    "    df = df.collect()\n",
    "    dfs = dfs.collect()\n",
    "    if i == 0:\n",
    "        merged = df\n",
    "        shw = dfs\n",
    "    else:\n",
    "        merged = pl.concat([merged,df])\n",
    "        shw = pl.concat([shw,dfs])"
   ]
  },
  {
   "cell_type": "code",
   "execution_count": 4,
   "metadata": {},
   "outputs": [],
   "source": [
    "merged:pl.DataFrame\n",
    "shw:pl.DataFrame\n",
    "def get_tracks(df, subrun, event, coord='x'):\n",
    "    return df.filter(get_event(subrun,event)).select(\n",
    "        pl.col(f'trkstart{coord}_pandoraTrack'),\n",
    "        pl.col(f'trkend{coord}_pandoraTrack'),\n",
    "        pl.col('trkId_pandoraTrack'),\n",
    "        pl.col('pdg_geant').apply(lambda x: particle.Particle.from_pdgid(x).latex_name)\n",
    "        ).to_numpy()\n",
    "def get_showers(df, subrun, event, coord='x'):\n",
    "    return df.filter(get_event(subrun,event)).select(\n",
    "        pl.col(f'shwr_start{coord}_pandoraShower'),\n",
    "        pl.col(f'shwr_length_pandoraShower')*pl.col(f'shwr_startdcos{coord}_pandoraShower')+pl.col(f'shwr_start{coord}_pandoraShower'),\n",
    "        ).filter(\n",
    "            pl.col(f'shwr_start{coord}_pandoraShower') != -999\n",
    "        ).to_numpy()\n",
    "# showers[0].filter(get_event(subrun,event)).collect()"
   ]
  },
  {
   "cell_type": "code",
   "execution_count": 10,
   "metadata": {},
   "outputs": [],
   "source": [
    "import plotly.graph_objects as go\n",
    "import plotly.io as pio\n",
    "pio.renderers.default = \"browser\"\n",
    "\n",
    "def extract_id_pdg(v):\n",
    "    pdg = v[-1]\n",
    "    v = np.delete(v,-1)\n",
    "    id = v[-1]\n",
    "    v = np.delete(v,-1)\n",
    "    return v, id, pdg\n",
    "\n",
    "\n",
    "data = []\n",
    "subrun=3811\n",
    "event=14\n",
    "\n",
    "subrun=0\n",
    "event=9\n",
    "\n",
    "subrun=146\n",
    "event=10\n",
    "tx = get_tracks(merged,subrun,event,'x')\n",
    "ty = get_tracks(merged,subrun,event,'y')\n",
    "tz = get_tracks(merged,subrun,event,'z')\n",
    "\n",
    "# sx = get_showers(shwf,subrun,event,'x')\n",
    "# sy = get_showers(shwf,subrun,event,'y')\n",
    "# sz = get_showers(shwf,subrun,event,'z')\n",
    "\n",
    "for x,y,z in zip(tx, ty, tz):\n",
    "    x, id, pdg = extract_id_pdg(x)\n",
    "    y, id, pdg = extract_id_pdg(y)\n",
    "    z, id, pdg = extract_id_pdg(z)\n",
    "    data.append(\n",
    "        go.Scatter3d(x=x, y=y, z=z,\n",
    "                     mode='lines',\n",
    "                     line={\n",
    "                         'width': 10,\n",
    "                         'dash': \"dash\"\n",
    "                     },\n",
    "                     name=fr\"$id: {id}, pdg: {pdg}$\",\n",
    "                     showlegend=True,\n",
    "                     textfont={\n",
    "                         'size':20\n",
    "                     }\n",
    "                     \n",
    "                     )\n",
    "    )\n",
    "\n",
    "# for i, (x,y,z) in enumerate(zip(sx, sy, sz)):\n",
    "#     data.append(\n",
    "#         go.Scatter3d(x=x, y=y, z=z,\n",
    "#                      mode='lines',\n",
    "#                      line={\n",
    "#                          'width': 15,\n",
    "#                      },\n",
    "#                      name=fr\"$id: {i}, (shower)$\",\n",
    "#                      opacity= 0.5,\n",
    "#                      showlegend=True,\n",
    "#                      textfont={\n",
    "#                          'size':20\n",
    "#                      }\n",
    "                     \n",
    "#                      )\n",
    "#     )\n",
    "layout = go.Layout(\n",
    "    width=1200,\n",
    "    margin={'l': 1, 'r': 1, 'b': 1, 't': 1},\n",
    "    legend=dict(title_font_family=\"Times New Roman\",\n",
    "                              font=dict(size= 18))\n",
    ")\n",
    "plot_figure = go.Figure(data=data, layout=layout)\n",
    "plot_figure.show()"
   ]
  },
  {
   "cell_type": "code",
   "execution_count": 8,
   "metadata": {},
   "outputs": [
    {
     "ename": "NameError",
     "evalue": "name 'sx' is not defined",
     "output_type": "error",
     "traceback": [
      "\u001b[0;31m---------------------------------------------------------------------------\u001b[0m",
      "\u001b[0;31mNameError\u001b[0m                                 Traceback (most recent call last)",
      "Cell \u001b[0;32mIn[8], line 3\u001b[0m\n\u001b[1;32m      1\u001b[0m showers[\u001b[39m3\u001b[39m]\u001b[39m.\u001b[39mfilter(get_event(\u001b[39m3811\u001b[39m,\u001b[39m8\u001b[39m))\u001b[39m.\u001b[39mcollect()\n\u001b[1;32m      2\u001b[0m merged\u001b[39m.\u001b[39mfilter(get_event(\u001b[39m3811\u001b[39m,\u001b[39m8\u001b[39m))\u001b[39m.\u001b[39mselect(\u001b[39m'\u001b[39m\u001b[39mtrklen_pandoraTrack\u001b[39m\u001b[39m'\u001b[39m)\n\u001b[0;32m----> 3\u001b[0m slen \u001b[39m=\u001b[39m np\u001b[39m.\u001b[39msqrt((sx[:,\u001b[39m1\u001b[39m] \u001b[39m-\u001b[39m sx[:,\u001b[39m0\u001b[39m])\u001b[39m*\u001b[39m\u001b[39m*\u001b[39m\u001b[39m2\u001b[39m  \u001b[39m+\u001b[39m (sy[:,\u001b[39m1\u001b[39m] \u001b[39m-\u001b[39m sy[:,\u001b[39m0\u001b[39m])\u001b[39m*\u001b[39m\u001b[39m*\u001b[39m\u001b[39m2\u001b[39m  \u001b[39m+\u001b[39m (sz[:,\u001b[39m1\u001b[39m] \u001b[39m-\u001b[39m sz[:,\u001b[39m0\u001b[39m])\u001b[39m*\u001b[39m\u001b[39m*\u001b[39m\u001b[39m2\u001b[39m)\n\u001b[1;32m      5\u001b[0m slen\n",
      "\u001b[0;31mNameError\u001b[0m: name 'sx' is not defined"
     ]
    }
   ],
   "source": [
    "showers[3].filter(get_event(3811,8)).collect()\n",
    "merged.filter(get_event(3811,8)).select('trklen_pandoraTrack')\n",
    "slen = np.sqrt((sx[:,1] - sx[:,0])**2  + (sy[:,1] - sy[:,0])**2  + (sz[:,1] - sz[:,0])**2)\n",
    "\n",
    "slen"
   ]
  },
  {
   "cell_type": "code",
   "execution_count": 9,
   "metadata": {},
   "outputs": [
    {
     "data": {
      "text/html": [
       "<div><style>\n",
       ".dataframe > thead > tr > th,\n",
       ".dataframe > tbody > tr > td {\n",
       "  text-align: right;\n",
       "}\n",
       "</style>\n",
       "<small>shape: (4, 24)</small><table border=\"1\" class=\"dataframe\"><thead><tr><th>shwr_bestplane_pandoraShower</th><th>shwr_length_pandoraShower</th><th>shwr_startdcosx_pandoraShower</th><th>shwr_startdcosy_pandoraShower</th><th>shwr_startdcosz_pandoraShower</th><th>shwr_startx_pandoraShower</th><th>shwr_starty_pandoraShower</th><th>shwr_startz_pandoraShower</th><th>shwr_totEng_pandoraShower_x</th><th>shwr_totEng_pandoraShower_y</th><th>shwr_totEng_pandoraShower_z</th><th>shwr_dedx_pandoraShower_x</th><th>shwr_dedx_pandoraShower_y</th><th>shwr_dedx_pandoraShower_z</th><th>shwr_mipEng_pandoraShower_x</th><th>shwr_mipEng_pandoraShower_y</th><th>shwr_mipEng_pandoraShower_z</th><th>shwr_hasPFParticle_pandoraShower</th><th>shwr_PFParticleID_pandoraShower</th><th>shwr_pidmvamu_pandoraShower</th><th>shwr_pidmvae_pandoraShower</th><th>shwr_pidmvapich_pandoraShower</th><th>shwr_pidmvaphoton_pandoraShower</th><th>shwr_pidmvapr_pandoraShower</th></tr><tr><td>i16</td><td>f32</td><td>f32</td><td>f32</td><td>f32</td><td>f32</td><td>f32</td><td>f32</td><td>f32</td><td>f32</td><td>f32</td><td>f32</td><td>f32</td><td>f32</td><td>f32</td><td>f32</td><td>f32</td><td>i16</td><td>i16</td><td>f32</td><td>f32</td><td>f32</td><td>f32</td><td>f32</td></tr></thead><tbody><tr><td>1</td><td>96.466362</td><td>0.232655</td><td>0.909402</td><td>0.344761</td><td>37.694302</td><td>-406.247253</td><td>137.840637</td><td>464.195648</td><td>443.998779</td><td>451.559448</td><td>5.887189</td><td>9.460866</td><td>10.982842</td><td>-99999.0</td><td>-99999.0</td><td>-99999.0</td><td>1</td><td>3</td><td>-99999.0</td><td>-99999.0</td><td>-99999.0</td><td>-99999.0</td><td>-99999.0</td></tr><tr><td>1</td><td>16.136236</td><td>-0.509681</td><td>0.848531</td><td>-0.1422</td><td>122.727028</td><td>-275.15802</td><td>204.328583</td><td>107.303009</td><td>126.432251</td><td>106.487022</td><td>2.626674</td><td>3.108196</td><td>2.307724</td><td>-99999.0</td><td>-99999.0</td><td>-99999.0</td><td>1</td><td>3</td><td>-99999.0</td><td>-99999.0</td><td>-99999.0</td><td>-99999.0</td><td>-99999.0</td></tr><tr><td>0</td><td>5.87562</td><td>0.249815</td><td>0.784212</td><td>-0.567983</td><td>114.148003</td><td>-259.015442</td><td>201.038361</td><td>64.419044</td><td>-999.0</td><td>61.740231</td><td>9.92446</td><td>-999.0</td><td>9.538828</td><td>-99999.0</td><td>-99999.0</td><td>-99999.0</td><td>1</td><td>3</td><td>-99999.0</td><td>-99999.0</td><td>-99999.0</td><td>-99999.0</td><td>-99999.0</td></tr><tr><td>0</td><td>-999.0</td><td>-999.0</td><td>-999.0</td><td>-999.0</td><td>-999.0</td><td>-999.0</td><td>-999.0</td><td>8.52058</td><td>24.656363</td><td>-999.0</td><td>-999.0</td><td>-999.0</td><td>-999.0</td><td>-99999.0</td><td>-99999.0</td><td>-99999.0</td><td>1</td><td>3</td><td>-99999.0</td><td>-99999.0</td><td>-99999.0</td><td>-99999.0</td><td>-99999.0</td></tr></tbody></table></div>"
      ],
      "text/plain": [
       "shape: (4, 24)\n",
       "┌────────────┬────────────┬────────────┬────────────┬───┬────────────┬────────────┬────────────┬────────────┐\n",
       "│ shwr_bestp ┆ shwr_lengt ┆ shwr_start ┆ shwr_start ┆ … ┆ shwr_pidmv ┆ shwr_pidmv ┆ shwr_pidmv ┆ shwr_pidmv │\n",
       "│ lane_pando ┆ h_pandoraS ┆ dcosx_pand ┆ dcosy_pand ┆   ┆ ae_pandora ┆ apich_pand ┆ aphoton_pa ┆ apr_pandor │\n",
       "│ raShower   ┆ hower      ┆ oraShower  ┆ oraShower  ┆   ┆ Shower     ┆ oraShower  ┆ ndoraShowe ┆ aShower    │\n",
       "│ ---        ┆ ---        ┆ ---        ┆ ---        ┆   ┆ ---        ┆ ---        ┆ r          ┆ ---        │\n",
       "│ i16        ┆ f32        ┆ f32        ┆ f32        ┆   ┆ f32        ┆ f32        ┆ ---        ┆ f32        │\n",
       "│            ┆            ┆            ┆            ┆   ┆            ┆            ┆ f32        ┆            │\n",
       "╞════════════╪════════════╪════════════╪════════════╪═══╪════════════╪════════════╪════════════╪════════════╡\n",
       "│ 1          ┆ 96.466362  ┆ 0.232655   ┆ 0.909402   ┆ … ┆ -99999.0   ┆ -99999.0   ┆ -99999.0   ┆ -99999.0   │\n",
       "│ 1          ┆ 16.136236  ┆ -0.509681  ┆ 0.848531   ┆ … ┆ -99999.0   ┆ -99999.0   ┆ -99999.0   ┆ -99999.0   │\n",
       "│ 0          ┆ 5.87562    ┆ 0.249815   ┆ 0.784212   ┆ … ┆ -99999.0   ┆ -99999.0   ┆ -99999.0   ┆ -99999.0   │\n",
       "│ 0          ┆ -999.0     ┆ -999.0     ┆ -999.0     ┆ … ┆ -99999.0   ┆ -99999.0   ┆ -99999.0   ┆ -99999.0   │\n",
       "└────────────┴────────────┴────────────┴────────────┴───┴────────────┴────────────┴────────────┴────────────┘"
      ]
     },
     "execution_count": 9,
     "metadata": {},
     "output_type": "execute_result"
    }
   ],
   "source": [
    "shw.filter(get_event(0,4)).select(\n",
    "    pl.col('^shwr_.*$')\n",
    ")"
   ]
  },
  {
   "cell_type": "code",
   "execution_count": 10,
   "metadata": {},
   "outputs": [
    {
     "data": {
      "text/plain": [
       "129"
      ]
     },
     "execution_count": 10,
     "metadata": {},
     "output_type": "execute_result"
    }
   ],
   "source": [
    "shwf = shw.filter(\n",
    "    pl.col('shwr_startx_pandoraShower') != -999\n",
    ").filter(\n",
    "    pl.col('shwr_starty_pandoraShower') != -999\n",
    ").filter(\n",
    "    pl.col('shwr_startz_pandoraShower') != -999\n",
    ").filter(\n",
    "    (pl.col('shwr_totEng_pandoraShower_x') != -999) | (pl.col('shwr_totEng_pandoraShower_y') != -999) | (pl.col('shwr_totEng_pandoraShower_z') != -999)\n",
    "# ).filter(\n",
    "#     True\n",
    "    # (pl.col('shwr_dedx_pandoraShower_x') != -999) & (pl.col('shwr_dedx_pandoraShower_y') != -999) & (pl.col('shwr_dedx_pandoraShower_z') != -999)\n",
    ").filter(\n",
    "    pl.col('shwr_length_pandoraShower') != -999\n",
    ")\n",
    "\n",
    "len(shwf)-len(merged)"
   ]
  },
  {
   "cell_type": "code",
   "execution_count": 12,
   "metadata": {},
   "outputs": [
    {
     "data": {
      "text/html": [
       "<div><style>\n",
       ".dataframe > thead > tr > th,\n",
       ".dataframe > tbody > tr > td {\n",
       "  text-align: right;\n",
       "}\n",
       "</style>\n",
       "<small>shape: (295_242, 30)</small><table border=\"1\" class=\"dataframe\"><thead><tr><th>subrun</th><th>event</th><th>shwr_bestplane_pandoraShower</th><th>shwr_length_pandoraShower</th><th>shwr_startdcosx_pandoraShower</th><th>shwr_startdcosy_pandoraShower</th><th>shwr_startdcosz_pandoraShower</th><th>shwr_startx_pandoraShower</th><th>shwr_starty_pandoraShower</th><th>shwr_startz_pandoraShower</th><th>shwr_totEng_pandoraShower_x</th><th>shwr_totEng_pandoraShower_y</th><th>shwr_totEng_pandoraShower_z</th><th>shwr_dedx_pandoraShower_x</th><th>shwr_dedx_pandoraShower_y</th><th>shwr_dedx_pandoraShower_z</th><th>shwr_mipEng_pandoraShower_x</th><th>shwr_mipEng_pandoraShower_y</th><th>shwr_mipEng_pandoraShower_z</th><th>shwr_hasPFParticle_pandoraShower</th><th>shwr_PFParticleID_pandoraShower</th><th>shwr_pidmvamu_pandoraShower</th><th>shwr_pidmvae_pandoraShower</th><th>shwr_pidmvapich_pandoraShower</th><th>shwr_pidmvaphoton_pandoraShower</th><th>shwr_pidmvapr_pandoraShower</th><th>showerID_pandoraShower</th><th>trkId_pandoraTrack</th><th>showerID_pandoraShower_right</th><th>diff</th></tr><tr><td>i32</td><td>i32</td><td>i16</td><td>f32</td><td>f32</td><td>f32</td><td>f32</td><td>f32</td><td>f32</td><td>f32</td><td>f32</td><td>f32</td><td>f32</td><td>f32</td><td>f32</td><td>f32</td><td>f32</td><td>f32</td><td>f32</td><td>i16</td><td>i16</td><td>f32</td><td>f32</td><td>f32</td><td>f32</td><td>f32</td><td>i16</td><td>u32</td><td>u32</td><td>i32</td></tr></thead><tbody><tr><td>0</td><td>4</td><td>1</td><td>96.466362</td><td>0.232655</td><td>0.909402</td><td>0.344761</td><td>37.694302</td><td>-406.247253</td><td>137.840637</td><td>464.195648</td><td>443.998779</td><td>451.559448</td><td>5.887189</td><td>9.460866</td><td>10.982842</td><td>-99999.0</td><td>-99999.0</td><td>-99999.0</td><td>1</td><td>3</td><td>-99999.0</td><td>-99999.0</td><td>-99999.0</td><td>-99999.0</td><td>-99999.0</td><td>-999</td><td>3</td><td>4</td><td>-1</td></tr><tr><td>0</td><td>4</td><td>1</td><td>16.136236</td><td>-0.509681</td><td>0.848531</td><td>-0.1422</td><td>122.727028</td><td>-275.15802</td><td>204.328583</td><td>107.303009</td><td>126.432251</td><td>106.487022</td><td>2.626674</td><td>3.108196</td><td>2.307724</td><td>-99999.0</td><td>-99999.0</td><td>-99999.0</td><td>1</td><td>3</td><td>-99999.0</td><td>-99999.0</td><td>-99999.0</td><td>-99999.0</td><td>-99999.0</td><td>-999</td><td>3</td><td>4</td><td>-1</td></tr><tr><td>0</td><td>4</td><td>0</td><td>5.87562</td><td>0.249815</td><td>0.784212</td><td>-0.567983</td><td>114.148003</td><td>-259.015442</td><td>201.038361</td><td>64.419044</td><td>-999.0</td><td>61.740231</td><td>9.92446</td><td>-999.0</td><td>9.538828</td><td>-99999.0</td><td>-99999.0</td><td>-99999.0</td><td>1</td><td>3</td><td>-99999.0</td><td>-99999.0</td><td>-99999.0</td><td>-99999.0</td><td>-99999.0</td><td>-999</td><td>3</td><td>4</td><td>-1</td></tr><tr><td>0</td><td>4</td><td>0</td><td>-999.0</td><td>-999.0</td><td>-999.0</td><td>-999.0</td><td>-999.0</td><td>-999.0</td><td>-999.0</td><td>8.52058</td><td>24.656363</td><td>-999.0</td><td>-999.0</td><td>-999.0</td><td>-999.0</td><td>-99999.0</td><td>-99999.0</td><td>-99999.0</td><td>1</td><td>3</td><td>-99999.0</td><td>-99999.0</td><td>-99999.0</td><td>-99999.0</td><td>-99999.0</td><td>-999</td><td>3</td><td>4</td><td>-1</td></tr><tr><td>0</td><td>5</td><td>0</td><td>24.156116</td><td>-0.226436</td><td>-0.57362</td><td>0.787202</td><td>92.810913</td><td>-494.948029</td><td>347.923615</td><td>94.819046</td><td>91.221069</td><td>91.665482</td><td>2.29058</td><td>2.629945</td><td>2.168712</td><td>-99999.0</td><td>-99999.0</td><td>-99999.0</td><td>1</td><td>1</td><td>-99999.0</td><td>-99999.0</td><td>-99999.0</td><td>-99999.0</td><td>-99999.0</td><td>-999</td><td>4</td><td>5</td><td>-1</td></tr><tr><td>0</td><td>5</td><td>0</td><td>9.15351</td><td>-0.842969</td><td>-0.392632</td><td>0.367755</td><td>48.093544</td><td>-491.475372</td><td>350.72171</td><td>46.294029</td><td>45.734295</td><td>51.824993</td><td>4.087903</td><td>2.750652</td><td>1.782876</td><td>-99999.0</td><td>-99999.0</td><td>-99999.0</td><td>1</td><td>1</td><td>-99999.0</td><td>-99999.0</td><td>-99999.0</td><td>-99999.0</td><td>-99999.0</td><td>-999</td><td>4</td><td>5</td><td>-1</td></tr><tr><td>0</td><td>5</td><td>1</td><td>9.786713</td><td>0.196534</td><td>0.752078</td><td>0.629089</td><td>93.6007</td><td>-490.392273</td><td>349.062988</td><td>64.850342</td><td>61.339409</td><td>38.52132</td><td>2.676831</td><td>7.194021</td><td>2.474085</td><td>-99999.0</td><td>-99999.0</td><td>-99999.0</td><td>1</td><td>1</td><td>-99999.0</td><td>-99999.0</td><td>-99999.0</td><td>-99999.0</td><td>-99999.0</td><td>-999</td><td>4</td><td>5</td><td>-1</td></tr><tr><td>0</td><td>5</td><td>0</td><td>5.850799</td><td>-0.972875</td><td>0.079743</td><td>-0.217152</td><td>91.186913</td><td>-494.322784</td><td>347.532867</td><td>51.982449</td><td>61.798157</td><td>54.32618</td><td>3.52661</td><td>4.127992</td><td>15.524368</td><td>-99999.0</td><td>-99999.0</td><td>-99999.0</td><td>1</td><td>1</td><td>-99999.0</td><td>-99999.0</td><td>-99999.0</td><td>-99999.0</td><td>-99999.0</td><td>-999</td><td>4</td><td>5</td><td>-1</td></tr><tr><td>0</td><td>5</td><td>2</td><td>-999.0</td><td>-999.0</td><td>-999.0</td><td>-999.0</td><td>-999.0</td><td>-999.0</td><td>-999.0</td><td>-999.0</td><td>1.743419</td><td>23.67831</td><td>-999.0</td><td>-999.0</td><td>-999.0</td><td>-99999.0</td><td>-99999.0</td><td>-99999.0</td><td>1</td><td>1</td><td>-99999.0</td><td>-99999.0</td><td>-99999.0</td><td>-99999.0</td><td>-99999.0</td><td>-999</td><td>4</td><td>5</td><td>-1</td></tr><tr><td>0</td><td>9</td><td>0</td><td>1302.112671</td><td>0.185257</td><td>0.537427</td><td>-0.82271</td><td>5.403774</td><td>-576.199768</td><td>1185.515381</td><td>3758.54541</td><td>3616.736816</td><td>3685.696045</td><td>2.159567</td><td>2.225008</td><td>1.81289</td><td>-99999.0</td><td>-99999.0</td><td>-99999.0</td><td>1</td><td>1</td><td>-99999.0</td><td>-99999.0</td><td>-99999.0</td><td>-99999.0</td><td>-99999.0</td><td>-999</td><td>3</td><td>4</td><td>-1</td></tr><tr><td>0</td><td>9</td><td>1</td><td>6.563612</td><td>-0.333152</td><td>0.856576</td><td>-0.394066</td><td>139.859863</td><td>-234.957581</td><td>688.763367</td><td>33.737831</td><td>49.887711</td><td>-999.0</td><td>0.846766</td><td>6.708197</td><td>-999.0</td><td>-99999.0</td><td>-99999.0</td><td>-99999.0</td><td>1</td><td>1</td><td>-99999.0</td><td>-99999.0</td><td>-99999.0</td><td>-99999.0</td><td>-99999.0</td><td>-999</td><td>3</td><td>4</td><td>-1</td></tr><tr><td>0</td><td>9</td><td>1</td><td>12.32813</td><td>0.129506</td><td>0.967575</td><td>-0.216854</td><td>14.53858</td><td>-556.556763</td><td>1159.599243</td><td>-999.0</td><td>51.064053</td><td>52.502193</td><td>-999.0</td><td>0.869662</td><td>2.545379</td><td>-99999.0</td><td>-99999.0</td><td>-99999.0</td><td>1</td><td>1</td><td>-99999.0</td><td>-99999.0</td><td>-99999.0</td><td>-99999.0</td><td>-99999.0</td><td>-999</td><td>3</td><td>4</td><td>-1</td></tr><tr><td>&hellip;</td><td>&hellip;</td><td>&hellip;</td><td>&hellip;</td><td>&hellip;</td><td>&hellip;</td><td>&hellip;</td><td>&hellip;</td><td>&hellip;</td><td>&hellip;</td><td>&hellip;</td><td>&hellip;</td><td>&hellip;</td><td>&hellip;</td><td>&hellip;</td><td>&hellip;</td><td>&hellip;</td><td>&hellip;</td><td>&hellip;</td><td>&hellip;</td><td>&hellip;</td><td>&hellip;</td><td>&hellip;</td><td>&hellip;</td><td>&hellip;</td><td>&hellip;</td><td>&hellip;</td><td>&hellip;</td><td>&hellip;</td><td>&hellip;</td></tr><tr><td>9</td><td>3</td><td>0</td><td>66.046303</td><td>0.355642</td><td>-0.185993</td><td>0.915929</td><td>336.590393</td><td>370.191162</td><td>947.997986</td><td>1265.281982</td><td>973.755005</td><td>1259.677368</td><td>1.207693</td><td>0.244974</td><td>3.591833</td><td>-99999.0</td><td>-99999.0</td><td>-99999.0</td><td>1</td><td>0</td><td>-99999.0</td><td>-99999.0</td><td>-99999.0</td><td>-99999.0</td><td>-99999.0</td><td>-999</td><td>4</td><td>5</td><td>-1</td></tr><tr><td>9</td><td>3</td><td>0</td><td>25.954432</td><td>-0.065138</td><td>-0.76385</td><td>0.642099</td><td>336.717163</td><td>374.497833</td><td>950.886536</td><td>115.007317</td><td>59.430367</td><td>135.623032</td><td>11.917588</td><td>-999.0</td><td>8.985967</td><td>-99999.0</td><td>-99999.0</td><td>-99999.0</td><td>1</td><td>0</td><td>-99999.0</td><td>-99999.0</td><td>-99999.0</td><td>-99999.0</td><td>-99999.0</td><td>-999</td><td>4</td><td>5</td><td>-1</td></tr><tr><td>9</td><td>3</td><td>0</td><td>27.833855</td><td>0.528052</td><td>0.834502</td><td>-0.157377</td><td>339.318909</td><td>375.993835</td><td>954.25061</td><td>152.754684</td><td>97.754364</td><td>108.583</td><td>2.062524</td><td>-999.0</td><td>-999.0</td><td>-99999.0</td><td>-99999.0</td><td>-99999.0</td><td>1</td><td>0</td><td>-99999.0</td><td>-99999.0</td><td>-99999.0</td><td>-99999.0</td><td>-99999.0</td><td>-999</td><td>4</td><td>5</td><td>-1</td></tr><tr><td>9</td><td>3</td><td>0</td><td>5.546574</td><td>-0.913869</td><td>-0.006745</td><td>-0.405954</td><td>334.706848</td><td>370.753387</td><td>946.444275</td><td>10.762534</td><td>17.165119</td><td>23.036509</td><td>0.63668</td><td>0.810782</td><td>1.939132</td><td>-99999.0</td><td>-99999.0</td><td>-99999.0</td><td>1</td><td>0</td><td>-99999.0</td><td>-99999.0</td><td>-99999.0</td><td>-99999.0</td><td>-99999.0</td><td>-999</td><td>4</td><td>5</td><td>-1</td></tr><tr><td>9</td><td>3</td><td>1</td><td>-999.0</td><td>-999.0</td><td>-999.0</td><td>-999.0</td><td>-999.0</td><td>-999.0</td><td>-999.0</td><td>4.441089</td><td>62.824425</td><td>-999.0</td><td>-999.0</td><td>-999.0</td><td>-999.0</td><td>-99999.0</td><td>-99999.0</td><td>-99999.0</td><td>1</td><td>0</td><td>-99999.0</td><td>-99999.0</td><td>-99999.0</td><td>-99999.0</td><td>-99999.0</td><td>-999</td><td>4</td><td>5</td><td>-1</td></tr><tr><td>9</td><td>6</td><td>2</td><td>89.247002</td><td>-0.305923</td><td>-0.121707</td><td>-0.944245</td><td>-83.588631</td><td>-19.324617</td><td>486.927582</td><td>523.907166</td><td>460.895569</td><td>567.490784</td><td>21.543795</td><td>0.998258</td><td>23.103167</td><td>-99999.0</td><td>-99999.0</td><td>-99999.0</td><td>1</td><td>0</td><td>-99999.0</td><td>-99999.0</td><td>-99999.0</td><td>-99999.0</td><td>-99999.0</td><td>-999</td><td>4</td><td>5</td><td>-1</td></tr><tr><td>9</td><td>6</td><td>1</td><td>11.235063</td><td>0.472666</td><td>-0.804302</td><td>0.360119</td><td>-82.351921</td><td>-21.873505</td><td>489.750153</td><td>83.6325</td><td>153.082382</td><td>108.924515</td><td>2.270187</td><td>5.965837</td><td>5.127803</td><td>-99999.0</td><td>-99999.0</td><td>-99999.0</td><td>1</td><td>0</td><td>-99999.0</td><td>-99999.0</td><td>-99999.0</td><td>-99999.0</td><td>-99999.0</td><td>-999</td><td>4</td><td>5</td><td>-1</td></tr><tr><td>9</td><td>6</td><td>2</td><td>-999.0</td><td>-999.0</td><td>-999.0</td><td>-999.0</td><td>-999.0</td><td>-999.0</td><td>-999.0</td><td>31.965992</td><td>22.909519</td><td>35.356548</td><td>-999.0</td><td>-999.0</td><td>-999.0</td><td>-99999.0</td><td>-99999.0</td><td>-99999.0</td><td>1</td><td>0</td><td>-99999.0</td><td>-99999.0</td><td>-99999.0</td><td>-99999.0</td><td>-99999.0</td><td>-999</td><td>4</td><td>5</td><td>-1</td></tr><tr><td>9</td><td>6</td><td>1</td><td>1.410797</td><td>0.230289</td><td>0.677404</td><td>-0.698635</td><td>-82.58271</td><td>-20.029734</td><td>487.218811</td><td>18.854286</td><td>22.710836</td><td>85.241562</td><td>-999.0</td><td>6.844528</td><td>-999.0</td><td>-99999.0</td><td>-99999.0</td><td>-99999.0</td><td>1</td><td>0</td><td>-99999.0</td><td>-99999.0</td><td>-99999.0</td><td>-99999.0</td><td>-99999.0</td><td>-999</td><td>4</td><td>5</td><td>-1</td></tr><tr><td>9</td><td>6</td><td>0</td><td>2.135192</td><td>-0.642566</td><td>0.108004</td><td>-0.75858</td><td>-84.688118</td><td>-19.786343</td><td>487.589691</td><td>15.603203</td><td>72.327766</td><td>24.826536</td><td>8.717581</td><td>-999.0</td><td>24.008188</td><td>-99999.0</td><td>-99999.0</td><td>-99999.0</td><td>1</td><td>0</td><td>-99999.0</td><td>-99999.0</td><td>-99999.0</td><td>-99999.0</td><td>-99999.0</td><td>-999</td><td>4</td><td>5</td><td>-1</td></tr><tr><td>9</td><td>19</td><td>1</td><td>55.141972</td><td>-0.021403</td><td>-0.381436</td><td>-0.924147</td><td>-282.068298</td><td>-234.166046</td><td>258.448151</td><td>195.445404</td><td>202.608017</td><td>210.501175</td><td>-999.0</td><td>0.448519</td><td>-999.0</td><td>-99999.0</td><td>-99999.0</td><td>-99999.0</td><td>0</td><td>-1</td><td>-99999.0</td><td>-99999.0</td><td>-99999.0</td><td>-99999.0</td><td>-99999.0</td><td>-999</td><td>1</td><td>2</td><td>-1</td></tr><tr><td>9</td><td>19</td><td>0</td><td>-999.0</td><td>-999.0</td><td>-999.0</td><td>-999.0</td><td>-999.0</td><td>-999.0</td><td>-999.0</td><td>14.638824</td><td>-999.0</td><td>15.656889</td><td>-999.0</td><td>-999.0</td><td>-999.0</td><td>-99999.0</td><td>-99999.0</td><td>-99999.0</td><td>0</td><td>-1</td><td>-99999.0</td><td>-99999.0</td><td>-99999.0</td><td>-99999.0</td><td>-99999.0</td><td>-999</td><td>1</td><td>2</td><td>-1</td></tr></tbody></table></div>"
      ],
      "text/plain": [
       "shape: (295_242, 30)\n",
       "┌────────┬───────┬────────────┬────────────┬───┬──────────────┬──────────────┬──────────────┬──────┐\n",
       "│ subrun ┆ event ┆ shwr_bestp ┆ shwr_lengt ┆ … ┆ showerID_pan ┆ trkId_pandor ┆ showerID_pan ┆ diff │\n",
       "│ ---    ┆ ---   ┆ lane_pando ┆ h_pandoraS ┆   ┆ doraShower   ┆ aTrack       ┆ doraShower_r ┆ ---  │\n",
       "│ i32    ┆ i32   ┆ raShower   ┆ hower      ┆   ┆ ---          ┆ ---          ┆ ight         ┆ i32  │\n",
       "│        ┆       ┆ ---        ┆ ---        ┆   ┆ i16          ┆ u32          ┆ ---          ┆      │\n",
       "│        ┆       ┆ i16        ┆ f32        ┆   ┆              ┆              ┆ u32          ┆      │\n",
       "╞════════╪═══════╪════════════╪════════════╪═══╪══════════════╪══════════════╪══════════════╪══════╡\n",
       "│ 0      ┆ 4     ┆ 1          ┆ 96.466362  ┆ … ┆ -999         ┆ 3            ┆ 4            ┆ -1   │\n",
       "│ 0      ┆ 4     ┆ 1          ┆ 16.136236  ┆ … ┆ -999         ┆ 3            ┆ 4            ┆ -1   │\n",
       "│ 0      ┆ 4     ┆ 0          ┆ 5.87562    ┆ … ┆ -999         ┆ 3            ┆ 4            ┆ -1   │\n",
       "│ 0      ┆ 4     ┆ 0          ┆ -999.0     ┆ … ┆ -999         ┆ 3            ┆ 4            ┆ -1   │\n",
       "│ …      ┆ …     ┆ …          ┆ …          ┆ … ┆ …            ┆ …            ┆ …            ┆ …    │\n",
       "│ 9      ┆ 6     ┆ 1          ┆ 1.410797   ┆ … ┆ -999         ┆ 4            ┆ 5            ┆ -1   │\n",
       "│ 9      ┆ 6     ┆ 0          ┆ 2.135192   ┆ … ┆ -999         ┆ 4            ┆ 5            ┆ -1   │\n",
       "│ 9      ┆ 19    ┆ 1          ┆ 55.141972  ┆ … ┆ -999         ┆ 1            ┆ 2            ┆ -1   │\n",
       "│ 9      ┆ 19    ┆ 0          ┆ -999.0     ┆ … ┆ -999         ┆ 1            ┆ 2            ┆ -1   │\n",
       "└────────┴───────┴────────────┴────────────┴───┴──────────────┴──────────────┴──────────────┴──────┘"
      ]
     },
     "execution_count": 12,
     "metadata": {},
     "output_type": "execute_result"
    }
   ],
   "source": [
    "t = merged.groupby(selection_events()).agg(\n",
    "    pl.col('trkId_pandoraTrack').count()\n",
    ").sort(selection_events())\n",
    "s = shw.groupby(selection_events()).agg(\n",
    "    pl.col('showerID_pandoraShower').count()\n",
    ").sort(selection_events())\n",
    "\n",
    "n = t.join(s,left_on=selection_events(), right_on=selection_events())\n",
    "\n",
    "nfilter = n.with_columns(\n",
    "    diff = (pl.col('trkId_pandoraTrack').cast(pl.Int32) - pl.col('showerID_pandoraShower').cast(pl.Int32))\n",
    ").filter(\n",
    "    pl.col('diff') != 0\n",
    ")\n",
    "shw.join(nfilter,left_on=selection_events(), right_on=selection_events())\n",
    "\n",
    "# t.groupby(selection_events(['trkId_pandoraTrack'])).agg(\n",
    "\n",
    "# ).sort(selection_events())"
   ]
  },
  {
   "cell_type": "code",
   "execution_count": 23,
   "metadata": {},
   "outputs": [
    {
     "data": {
      "text/html": [
       "<div><style>\n",
       ".dataframe > thead > tr > th,\n",
       ".dataframe > tbody > tr > td {\n",
       "  text-align: right;\n",
       "}\n",
       "</style>\n",
       "<small>shape: (3, 3)</small><table border=\"1\" class=\"dataframe\"><thead><tr><th>pdg_geant</th><th>Eng_geant</th><th>trklen_pandoraTrack</th></tr><tr><td>i32</td><td>f32</td><td>f32</td></tr></thead><tbody><tr><td>2212</td><td>1.088234</td><td>23.251923</td></tr><tr><td>2212</td><td>1.275908</td><td>49.70554</td></tr><tr><td>13</td><td>0.375124</td><td>109.910606</td></tr></tbody></table></div>"
      ],
      "text/plain": [
       "shape: (3, 3)\n",
       "┌───────────┬───────────┬─────────────────────┐\n",
       "│ pdg_geant ┆ Eng_geant ┆ trklen_pandoraTrack │\n",
       "│ ---       ┆ ---       ┆ ---                 │\n",
       "│ i32       ┆ f32       ┆ f32                 │\n",
       "╞═══════════╪═══════════╪═════════════════════╡\n",
       "│ 2212      ┆ 1.088234  ┆ 23.251923           │\n",
       "│ 2212      ┆ 1.275908  ┆ 49.70554            │\n",
       "│ 13        ┆ 0.375124  ┆ 109.910606          │\n",
       "└───────────┴───────────┴─────────────────────┘"
      ]
     },
     "execution_count": 23,
     "metadata": {},
     "output_type": "execute_result"
    }
   ],
   "source": [
    "merged.filter(get_event(7470,10)).sort('trklen_pandoraTrack').select(['pdg_geant', 'Eng_geant', 'trklen_pandoraTrack'])"
   ]
  },
  {
   "cell_type": "code",
   "execution_count": 20,
   "metadata": {},
   "outputs": [
    {
     "data": {
      "text/html": [
       "<div><style>\n",
       ".dataframe > thead > tr > th,\n",
       ".dataframe > tbody > tr > td {\n",
       "  text-align: right;\n",
       "}\n",
       "</style>\n",
       "<small>shape: (9, 2)</small><table border=\"1\" class=\"dataframe\"><thead><tr><th>statistic</th><th>value</th></tr><tr><td>str</td><td>f64</td></tr></thead><tbody><tr><td>&quot;count&quot;</td><td>854028.0</td></tr><tr><td>&quot;null_count&quot;</td><td>0.0</td></tr><tr><td>&quot;mean&quot;</td><td>1.748557</td></tr><tr><td>&quot;std&quot;</td><td>5.395938</td></tr><tr><td>&quot;min&quot;</td><td>0.000002</td></tr><tr><td>&quot;max&quot;</td><td>98.411682</td></tr><tr><td>&quot;median&quot;</td><td>0.979221</td></tr><tr><td>&quot;25%&quot;</td><td>0.271389</td></tr><tr><td>&quot;75%&quot;</td><td>1.154097</td></tr></tbody></table></div>"
      ],
      "text/plain": [
       "shape: (9, 2)\n",
       "┌────────────┬───────────┐\n",
       "│ statistic  ┆ value     │\n",
       "│ ---        ┆ ---       │\n",
       "│ str        ┆ f64       │\n",
       "╞════════════╪═══════════╡\n",
       "│ count      ┆ 854028.0  │\n",
       "│ null_count ┆ 0.0       │\n",
       "│ mean       ┆ 1.748557  │\n",
       "│ std        ┆ 5.395938  │\n",
       "│ min        ┆ 0.000002  │\n",
       "│ max        ┆ 98.411682 │\n",
       "│ median     ┆ 0.979221  │\n",
       "│ 25%        ┆ 0.271389  │\n",
       "│ 75%        ┆ 1.154097  │\n",
       "└────────────┴───────────┘"
      ]
     },
     "execution_count": 20,
     "metadata": {},
     "output_type": "execute_result"
    }
   ],
   "source": [
    "merged['Eng_geant'].describe()"
   ]
  }
 ],
 "metadata": {
  "kernelspec": {
   "display_name": "Python 3",
   "language": "python",
   "name": "python3"
  },
  "language_info": {
   "codemirror_mode": {
    "name": "ipython",
    "version": 3
   },
   "file_extension": ".py",
   "mimetype": "text/x-python",
   "name": "python",
   "nbconvert_exporter": "python",
   "pygments_lexer": "ipython3",
   "version": "3.10.12"
  },
  "orig_nbformat": 4
 },
 "nbformat": 4,
 "nbformat_minor": 2
}
