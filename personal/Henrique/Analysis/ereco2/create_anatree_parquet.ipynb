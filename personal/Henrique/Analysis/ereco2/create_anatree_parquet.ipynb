{
 "cells": [
  {
   "cell_type": "code",
   "execution_count": 4,
   "metadata": {},
   "outputs": [
    {
     "name": "stdout",
     "output_type": "stream",
     "text": [
      "The autoreload extension is already loaded. To reload it, use:\n",
      "  %reload_ext autoreload\n"
     ]
    }
   ],
   "source": [
    "%load_ext autoreload\n",
    "%autoreload 2\n",
    "\n",
    "import uproot\n",
    "import awkward as ak\n",
    "import pandas as pd\n",
    "import polars as pl\n",
    "import sys\n",
    "import os\n",
    "# using getlogin() returning username\n",
    "user_name = os.getlogin()\n",
    "\n",
    "sys.path.append(f'/home/{user_name}/Documents/cernbox/Atmos_Pandora/apc_atmo_repo/Anatree/')\n",
    "from anatree_class import Anatree\n",
    "\n",
    "anatree:Anatree"
   ]
  },
  {
   "cell_type": "code",
   "execution_count": 5,
   "metadata": {},
   "outputs": [],
   "source": [
    "path = \"/home/henrique/Documents/cernbox/Atmos_Pandora/data/ereco2/\"\n",
    "# file = \"retake_chi2_llhd_fix_res0_fixed_seg_mcparticle_fixes\"\n",
    "file = \"verify_changes_to_retrieve_original\"\n",
    "ifile = f\"{file}.root\"\n",
    "odir = f\"parquet_{file}\"\n",
    "\n",
    "root_file = f'{path}{ifile}'\n",
    "opath = f'{path}{odir}'\n",
    "\n",
    "anatree = Anatree(root_file, entry_start=0, entry_stop=1000, load_data=False)\n",
    "anatree.tree:uproot.TTree"
   ]
  },
  {
   "cell_type": "code",
   "execution_count": 6,
   "metadata": {},
   "outputs": [
    {
     "name": "stdout",
     "output_type": "stream",
     "text": [
      "Batch 1/33 done\n",
      "Batch 2/33 done\n",
      "Batch 3/33 done\n",
      "Batch 4/33 done\n",
      "Batch 5/33 done\n",
      "Batch 6/33 done\n",
      "Batch 7/33 done\n",
      "Batch 8/33 done\n",
      "Batch 9/33 done\n",
      "Batch 10/33 done\n",
      "Batch 11/33 done\n",
      "Batch 12/33 done\n",
      "Batch 13/33 done\n",
      "Batch 14/33 done\n",
      "Batch 15/33 done\n",
      "Batch 16/33 done\n",
      "Batch 17/33 done\n",
      "Batch 18/33 done\n",
      "Batch 19/33 done\n",
      "Batch 20/33 done\n",
      "Batch 21/33 done\n",
      "Batch 22/33 done\n",
      "Batch 23/33 done\n",
      "Batch 24/33 done\n",
      "Batch 25/33 done\n",
      "Batch 26/33 done\n",
      "Batch 27/33 done\n",
      "Batch 28/33 done\n",
      "Batch 29/33 done\n",
      "Batch 30/33 done\n",
      "Batch 31/33 done\n",
      "Batch 32/33 done\n",
      "Batch 33/33 done\n"
     ]
    }
   ],
   "source": [
    "anatree.write_polars_parquet(opath, batch_size=10000, exclude=[''])"
   ]
  },
  {
   "cell_type": "code",
   "execution_count": 10,
   "metadata": {},
   "outputs": [],
   "source": [
    "f = uproot.open(root_file)\n"
   ]
  },
  {
   "cell_type": "code",
   "execution_count": 13,
   "metadata": {},
   "outputs": [],
   "source": [
    "t1 = f['analysistree/anatree;1']"
   ]
  },
  {
   "cell_type": "code",
   "execution_count": 55,
   "metadata": {},
   "outputs": [],
   "source": [
    "vars = t1.keys()\n",
    "gvars = [ v for v in vars if v.find(\"geant\") != -1]\n",
    "nuvars = [ v for v in vars if v.find(\"truth\") != -1]\n",
    "\n",
    "values = t1.arrays(gvars)\n",
    "nuvalues = t1.arrays(nuvars)"
   ]
  },
  {
   "cell_type": "code",
   "execution_count": 65,
   "metadata": {},
   "outputs": [],
   "source": [
    "runvars = ['run', 'event', 'subrun']\n",
    "runvalues = t1.arrays(runvars)\n"
   ]
  },
  {
   "cell_type": "code",
   "execution_count": 71,
   "metadata": {},
   "outputs": [],
   "source": [
    "import awkward as ak\n",
    "import numpy as np\n",
    "lengs = (values['no_primaries_geant'])\n",
    "lengs2 = [len(g) for g in values['P_geant']]\n",
    "lengs3 = (values['geant_list_size_geant'])\n",
    "lengs4 = (values['geant_list_size_in_tpcAV_geant'])\n",
    "# print(gvars)"
   ]
  },
  {
   "cell_type": "code",
   "execution_count": 115,
   "metadata": {},
   "outputs": [
    {
     "data": {
      "text/html": [
       "<pre>[[-14],\n",
       " [-12],\n",
       " [13],\n",
       " [11],\n",
       " [13],\n",
       " [11],\n",
       " [-11],\n",
       " [12],\n",
       " [16],\n",
       " [14],\n",
       " ...,\n",
       " [16],\n",
       " [12],\n",
       " [12],\n",
       " [11],\n",
       " [13],\n",
       " [13],\n",
       " [13],\n",
       " [-11],\n",
       " [-12]]\n",
       "--------------------------\n",
       "type: 593114 * var * int32</pre>"
      ],
      "text/plain": [
       "<Array [[-14], [-12], [13], ..., [-11], [-12]] type='593114 * var * int32'>"
      ]
     },
     "execution_count": 115,
     "metadata": {},
     "output_type": "execute_result"
    }
   ],
   "source": [
    "(lengs[lengs != lengs4])\n",
    "values['pdg_geant']\n",
    "# vnolep = runvalues[lengs==0]\n",
    "# vnolep[vnolep['run']==1453]\n",
    "# gvars\n"
   ]
  }
 ],
 "metadata": {
  "kernelspec": {
   "display_name": "Python 3",
   "language": "python",
   "name": "python3"
  },
  "language_info": {
   "codemirror_mode": {
    "name": "ipython",
    "version": 3
   },
   "file_extension": ".py",
   "mimetype": "text/x-python",
   "name": "python",
   "nbconvert_exporter": "python",
   "pygments_lexer": "ipython3",
   "version": "3.10.12"
  },
  "orig_nbformat": 4
 },
 "nbformat": 4,
 "nbformat_minor": 2
}
