{
 "cells": [
  {
   "cell_type": "code",
   "execution_count": 1,
   "metadata": {},
   "outputs": [],
   "source": [
    "%load_ext autoreload\n",
    "%autoreload 2\n",
    "\n",
    "import particle as pt\n",
    "import uproot\n",
    "import awkward as ak\n",
    "import numpy as np\n",
    "import matplotlib.pyplot as plt\n",
    "import pandas as pd\n",
    "import mplhep\n",
    "from scipy.stats import norm\n",
    "from scipy.optimize import curve_fit\n",
    "import matplotlib.mlab as mlab\n",
    "import time\n",
    "from matplotlib.colors import LogNorm\n",
    "mplhep.style.use(mplhep.style.ROOT)\n",
    "from pprint import pprint\n",
    "from tqdm import tqdm\n",
    "import polars as pl\n",
    "import sys\n",
    "import os\n",
    "# using getlogin() returning username\n",
    "user_name = os.getlogin()\n",
    "\n",
    "sys.path.append(f'/home/{user_name}/Documents/cernbox/Atmos_Pandora/apc_atmo_repo/Anatree/')\n",
    "from anatree_class import Anatree\n",
    "\n",
    "\n",
    "plt.rcParams.update({'font.size': 16,\n",
    "                     'grid.linestyle': '--',\n",
    "                     'axes.grid': True,\n",
    "                     'figure.autolayout': True,\n",
    "                     'figure.figsize': [14,6]\n",
    "                     })\n",
    "\n",
    "anatree:Anatree"
   ]
  },
  {
   "cell_type": "code",
   "execution_count": 43,
   "metadata": {},
   "outputs": [],
   "source": [
    "path = \"/home/henrique/Documents/cernbox/Atmos_Pandora/data/ereco_optimize/\"\n",
    "ifile = \"anatree_standard.root\"\n",
    "odir = \"parquet_standard\"\n",
    "\n",
    "root_file = f'{path}{ifile}'\n",
    "opath = f'{path}{odir}'\n",
    "\n",
    "anatree = Anatree(root_file, entry_start=0, entry_stop=1000, load_data=False)\n",
    "anatree.tree:uproot.TTree"
   ]
  },
  {
   "cell_type": "code",
   "execution_count": 44,
   "metadata": {},
   "outputs": [
    {
     "name": "stdout",
     "output_type": "stream",
     "text": [
      "Batch 1/2 done\n",
      "Batch 2/2 done\n"
     ]
    }
   ],
   "source": [
    "anatree.write_polars_parquet(opath, batch_size=10000, max_events=20000, exclude=[''])"
   ]
  }
 ],
 "metadata": {
  "kernelspec": {
   "display_name": "Python 3",
   "language": "python",
   "name": "python3"
  },
  "language_info": {
   "codemirror_mode": {
    "name": "ipython",
    "version": 3
   },
   "file_extension": ".py",
   "mimetype": "text/x-python",
   "name": "python",
   "nbconvert_exporter": "python",
   "pygments_lexer": "ipython3",
   "version": "3.10.12"
  },
  "orig_nbformat": 4
 },
 "nbformat": 4,
 "nbformat_minor": 2
}
