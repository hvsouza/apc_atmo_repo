{
 "cells": [
  {
   "cell_type": "code",
   "execution_count": 1,
   "metadata": {},
   "outputs": [],
   "source": [
    "%load_ext autoreload\n",
    "%autoreload 2\n",
    "\n",
    "import particle as pt\n",
    "import uproot\n",
    "import awkward as ak\n",
    "import numpy as np\n",
    "import matplotlib.pyplot as plt\n",
    "import pandas as pd\n",
    "from scipy.stats import binned_statistic\n",
    "from scipy.optimize import curve_fit\n",
    "import matplotlib.mlab as mlab\n",
    "import time\n",
    "from matplotlib.colors import LogNorm\n",
    "import uproot.models\n",
    "from pprint import pprint\n",
    "from tqdm import tqdm\n",
    "import polars as pl\n",
    "import sys\n",
    "import os\n",
    "import particle\n",
    "# using getlogin() returning username\n",
    "user_name = os.getlogin()\n",
    "\n",
    "sys.path.append(f'/home/{user_name}/Documents/Atmos_Pandora/apc_atmo_repo/Anatree/')\n",
    "sys.path.append(f'/home/henrique/Documents/Atmos_Pandora/apc_atmo_repo/personal/Henrique/Analysis/pida/')\n",
    "from anatree_class import Anatree\n",
    "from PIDA_class import PIDA\n",
    "from  ana_tools import *\n",
    "import plotly.graph_objects as go\n",
    "\n",
    "\n",
    "import mplhep\n",
    "mplhep.style.use(mplhep.style.ROOT)\n",
    "plt.rcParams.update({'font.size': 23,\n",
    "                     'grid.linestyle': '--',\n",
    "                     'axes.grid': True,\n",
    "                     'figure.autolayout': True,\n",
    "                     'figure.figsize': [14,6],\n",
    "                     })\n",
    "\n",
    "\n",
    "from pida_functions import *"
   ]
  },
  {
   "cell_type": "code",
   "execution_count": 2,
   "metadata": {},
   "outputs": [],
   "source": [
    "def loaddata(path:str, entry_stop=None, forceit=False):\n",
    "    parquet_path= path.replace(\".root\", \".parquet\")\n",
    "    if os.path.isfile(parquet_path) and not forceit:\n",
    "        print(path, 'loaded parquet')\n",
    "        df = pl.read_parquet(parquet_path)\n",
    "        return df\n",
    "    pid = PIDA(path, entry_stop=entry_stop)\n",
    "    dfs:pl.DataFrame\n",
    "    dfv:pl.DataFrame\n",
    "    df:pl.DataFrame\n",
    "\n",
    "    dfs = pid.dfsingles\n",
    "    dfv = pid.dfvector\n",
    "    dfp = pid.dfplanes\n",
    "\n",
    "    df = dfs.join(dfv, on=selection_events())\n",
    "    df = df.join(dfp, on=selection_events())\n",
    "    df.write_parquet(file=parquet_path)\n",
    "    return df\n",
    "    \n",
    "# df = loaddata(\"data/pida_new_full.root\", entry_stop=None, forceit=False)\n",
    "df = pl.scan_parquet(\"data/pida_new_full.parquet\")\n",
    "# df = pl.scan_parquet('data/pida_new.parquet')\n",
    "# df = pl.scan_parquet('data/pida_new.parquet')\n"
   ]
  },
  {
   "cell_type": "code",
   "execution_count": 3,
   "metadata": {},
   "outputs": [],
   "source": [
    "dftrkg4 = getbestof(df)"
   ]
  },
  {
   "cell_type": "code",
   "execution_count": 4,
   "metadata": {},
   "outputs": [],
   "source": [
    "dfall = dftrkg4.sort('trklen').filter(\n",
    "    pl.col('ccnc_truth') == 0,\n",
    "    pl.col('nuPDG_truth').abs() == 12\n",
    ")\n",
    "dfall = dfall.with_columns(\n",
    "    pnc = pl.col('trkpurity_planes_B')*pl.col('trkcompleteness_planes_B'),\n",
    ")\n"
   ]
  },
  {
   "cell_type": "code",
   "execution_count": 5,
   "metadata": {},
   "outputs": [],
   "source": [
    "dftmp:pl.DataFrame\n",
    "if isinstance(dfall, pl.LazyFrame):\n",
    "    dftmp = dfall.group_by(selection_events(), maintain_order=True).agg(\n",
    "    ).collect()\n",
    "    # dftmp = dftmp.head(int(len(dftmp)*0.2))\n",
    "    # dftmp = dftmp\n",
    "    # dfall = dfall.join(dftmp.lazy(), on=selection_events()).collect()\n",
    "    if isinstance(dfall, pl.LazyFrame):\n",
    "        dfall = dfall.collect()"
   ]
  },
  {
   "cell_type": "code",
   "execution_count": 7,
   "metadata": {},
   "outputs": [
    {
     "data": {
      "text/html": [
       "<div><style>\n",
       ".dataframe > thead > tr,\n",
       ".dataframe > tbody > tr {\n",
       "  text-align: right;\n",
       "  white-space: pre-wrap;\n",
       "}\n",
       "</style>\n",
       "<small>shape: (1_947_425,)</small><table border=\"1\" class=\"dataframe\"><thead><tr><th>trkshwlen</th></tr><tr><td>f32</td></tr></thead><tbody><tr><td>-999.0</td></tr><tr><td>-999.0</td></tr><tr><td>-999.0</td></tr><tr><td>-999.0</td></tr><tr><td>-999.0</td></tr><tr><td>&hellip;</td></tr><tr><td>557.832764</td></tr><tr><td>328.443115</td></tr><tr><td>325.856964</td></tr><tr><td>452.315491</td></tr><tr><td>375.505096</td></tr></tbody></table></div>"
      ],
      "text/plain": [
       "shape: (1_947_425,)\n",
       "Series: 'trkshwlen' [f32]\n",
       "[\n",
       "\t-999.0\n",
       "\t-999.0\n",
       "\t-999.0\n",
       "\t-999.0\n",
       "\t-999.0\n",
       "\t…\n",
       "\t557.832764\n",
       "\t328.443115\n",
       "\t325.856964\n",
       "\t452.315491\n",
       "\t375.505096\n",
       "]"
      ]
     },
     "execution_count": 7,
     "metadata": {},
     "output_type": "execute_result"
    }
   ],
   "source": [
    "dfall['trkshwlen']"
   ]
  }
 ],
 "metadata": {
  "kernelspec": {
   "display_name": "Python 3",
   "language": "python",
   "name": "python3"
  },
  "language_info": {
   "codemirror_mode": {
    "name": "ipython",
    "version": 3
   },
   "file_extension": ".py",
   "mimetype": "text/x-python",
   "name": "python",
   "nbconvert_exporter": "python",
   "pygments_lexer": "ipython3",
   "version": "3.10.12"
  }
 },
 "nbformat": 4,
 "nbformat_minor": 2
}
