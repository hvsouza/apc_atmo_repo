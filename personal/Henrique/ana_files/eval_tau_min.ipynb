{
 "cells": [
  {
   "cell_type": "code",
   "execution_count": 21,
   "metadata": {},
   "outputs": [],
   "source": [
    "import numpy as np\n",
    "light_speed = 299792458\n",
    "tau_life_time = 2.9e-13 #s\n",
    "tau_mass = 1777e6 # eV"
   ]
  },
  {
   "cell_type": "code",
   "execution_count": 3,
   "metadata": {},
   "outputs": [],
   "source": [
    "def eval_beta(gamma):\n",
    "    return np.sqrt(1-(1/gamma)**2)\n",
    "\n",
    "def eval_gamma(beta):\n",
    "    return 1./np.sqrt(1-beta**2)\n",
    "\n",
    "def time_dilatation(time, beta):\n",
    "    return time*eval_gamma(beta) \n",
    "\n",
    "def distance_traveled(time, beta):\n",
    "    return light_speed*beta*time_dilatation(time,beta)\n",
    "\n",
    "def required_beta_for_distance(time, distance):\n",
    "    return np.sqrt(1/(1+(light_speed*time/distance)**2))\n",
    "\n",
    "def eval_energy(beta):\n",
    "    return eval_gamma(beta)*tau_mass\n",
    "\n",
    "def eval_momentum(beta):\n",
    "    E = eval_energy(beta)\n",
    "    return np.sqrt(E*E - tau_mass*tau_mass)\n",
    "    "
   ]
  },
  {
   "cell_type": "code",
   "execution_count": 16,
   "metadata": {},
   "outputs": [
    {
     "data": {
      "text/plain": [
       "0.9999999962207344"
      ]
     },
     "execution_count": 16,
     "metadata": {},
     "output_type": "execute_result"
    }
   ],
   "source": [
    "distance_traveled(tau_life_time,0.997)\n",
    "required_beta_for_distance(tau_life_time, 5-3)\n",
    "# eval_momentum(0.9985)/1e9\n"
   ]
  },
  {
   "cell_type": "code",
   "execution_count": 19,
   "metadata": {},
   "outputs": [
    {
     "name": "stdout",
     "output_type": "stream",
     "text": [
      "Momentum to travel 1.5 (mm) =  10.219713744260643 (GeV)\n"
     ]
    }
   ],
   "source": [
    "distance = 1.5e-3\n",
    "print(f'Momentum to travel {distance*1e3} (mm) =  {eval_momentum(required_beta_for_distance(tau_life_time,distance))/1e9} (GeV)')"
   ]
  },
  {
   "cell_type": "code",
   "execution_count": null,
   "metadata": {},
   "outputs": [],
   "source": []
  }
 ],
 "metadata": {
  "kernelspec": {
   "display_name": "Python 3",
   "language": "python",
   "name": "python3"
  },
  "language_info": {
   "codemirror_mode": {
    "name": "ipython",
    "version": 3
   },
   "file_extension": ".py",
   "mimetype": "text/x-python",
   "name": "python",
   "nbconvert_exporter": "python",
   "pygments_lexer": "ipython3",
   "version": "3.10.6"
  },
  "orig_nbformat": 4
 },
 "nbformat": 4,
 "nbformat_minor": 2
}
