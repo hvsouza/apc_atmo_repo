{
 "cells": [
  {
   "cell_type": "code",
   "execution_count": 1,
   "id": "22cc4c50-f21c-41f5-8b20-48953ea70183",
   "metadata": {
    "collapsed": false
   },
   "outputs": [],
   "source": [
    "import uproot\n",
    "import awkward as ak\n",
    "import numpy as np\n",
    "import pandas as pd\n",
    "import matplotlib as plt\n",
    "import particle as pt\n",
    "from anytree import Node, RenderTree\n",
    "\n"
   ]
  },
  {
   "cell_type": "code",
   "execution_count": 2,
   "id": "b2bd09e8-7311-43fb-a217-e526b3e71989",
   "metadata": {
    "collapsed": false
   },
   "outputs": [],
   "source": [
    "file = uproot.open(\"./ana_hist.root:analysistree\")\n",
    "tree = file[\"anatree\"]\n",
    "data = tree.arrays() # you are using this \n"
   ]
  },
  {
   "cell_type": "code",
   "execution_count": 3,
   "id": "0f931859-a37a-40b2-9a98-d90c38e4504d",
   "metadata": {
    "collapsed": false
   },
   "outputs": [],
   "source": [
    "\n",
    "def get_pdg_name(pcode):\n",
    "    try:\n",
    "        ret = pt.Particle.from_pdgid(pcode).name\n",
    "    except:\n",
    "        ret = \"nap\"\n",
    "    return ret\n",
    "\n",
    "# all_weird_pdg = ak.flatten(data.pdg_geant)\n",
    "# all_weird_pdg = set(all_weird_pdg.to_list())\n",
    "\n",
    "# all_weird_pdg = all_weird_pdg - set(x for x in all_weird_pdg if abs(x) < 1e9)\n",
    "# # all_weird_pdg = set()\n",
    "# # all_weird_pdg.add(1000922350)\n",
    "# # all_weird_pdg.add(1000010020)\n",
    "# all_weird_pdg = list(all_weird_pdg)\n",
    "# for this_pdg in all_weird_pdg:\n",
    "#     particle = pt.PDGID(this_pdg)\n",
    "#     print(pt.Particle.from_pdgid(this_pdg).name)\n"
   ]
  },
  {
   "cell_type": "code",
   "execution_count": 5,
   "id": "aa800994-4aac-4637-8e49-cbf0cf2739bd",
   "metadata": {
    "collapsed": false
   },
   "outputs": [
    {
     "name": "stdout",
     "output_type": "stream",
     "text": [
      "0:nap\n",
      "├── 1:e+\n",
      "├── 2:pi-\n",
      "├── 3:pi+\n",
      "├── 4:n\n",
      "├── 5:pi-\n",
      "├── 6:pi0\n",
      "├── 7:p\n",
      "└── 8:pi-\n",
      "0:nap\n",
      "├── 1:nu(mu)\n",
      "├── 2:p\n",
      "├── 3:p\n",
      "├── 4:p\n",
      "├── 5:p\n",
      "├── 6:p\n",
      "├── 7:p\n",
      "├── 8:n\n",
      "├── 9:n\n",
      "├── 10:n\n",
      "├── 11:n\n",
      "├── 12:n\n",
      "├── 13:pi+\n",
      "└── 14:n\n",
      "0:nap\n",
      "├── 1:mu-\n",
      "├── 2:p\n",
      "└── 3:pi+\n",
      "0:nap\n",
      "├── 1:e-\n",
      "├── 2:gamma\n",
      "├── 3:pi0\n",
      "├── 4:pi+\n",
      "├── 5:K+\n",
      "├── 6:pi-\n",
      "└── 7:Lambda\n"
     ]
    }
   ],
   "source": [
    "def make_tree(ev):\n",
    "    def add_nodes(nodes, parent, child):\n",
    "        if parent not in nodes:\n",
    "            nodes[parent] = Node(parent)  \n",
    "        if child not in nodes:\n",
    "            nodes[child] = Node(child)\n",
    "        nodes[child].parent = nodes[parent]\n",
    "\n",
    "    nodes = {}  # store references to created nodes \n",
    "    for parent, child in zip(ev[\"Mother_geant\"], ev[\"TrackId_geant\"]):\n",
    "        add_nodes(nodes, parent, child)\n",
    "        # print(nodes)\n",
    "    return nodes\n",
    "\n",
    "for ev in data[3:7]:\n",
    "    # for i, pdg in enumerate(ev.pdg_geant):\n",
    "        \n",
    "        # particle_name = pt.Particle.from_pdgid(pdg).name\n",
    "        # # if(particle_name == \"Ni60\"):\n",
    "        \n",
    "        pdgs = {id: pdgcode for id, pdgcode in zip( ev.TrackId_geant, ev.pdg_geant)}\n",
    "        pdgs[0] = 0\n",
    "        nodes = make_tree(ev)\n",
    "        for pre, _, node in RenderTree(nodes[0], maxlevel=2):\n",
    "            print(f\"{pre}{node.name}:{get_pdg_name(pdgs[node.name])}\")\n"
   ]
  },
  {
   "cell_type": "code",
   "execution_count": 8,
   "id": "ca8af5ff-7099-423d-99af-85fbbcc42665",
   "metadata": {
    "collapsed": false
   },
   "outputs": [
    {
     "name": "stdout",
     "output_type": "stream",
     "text": [
      "event: 4\n",
      "Approx. kinetic energy:\t [4.51e+03, 210, 5.99e+05]\n",
      "Kinect energy:\t\t [7.49e+03, 682, 2.81e+05]\n",
      "--------------------\n",
      "Approx. kinetic energy:\t [205, 212, 204]\n",
      "Kinect energy:\t\t [206, 211, 204]\n",
      "--------------------\n",
      "Approx. kinetic energy:\t [1.14e+03, 2.1e+03, 519]\n",
      "Kinect energy:\t\t [988, 3.64e+03, 510]\n",
      "--------------------\n",
      "Approx. kinetic energy:\t [1.24e+03, 204, 247]\n",
      "Kinect energy:\t\t [1.16e+03, 203, 236]\n",
      "--------------------\n",
      "Approx. kinetic energy:\t [181, 888, 151]\n",
      "Kinect energy:\t\t [182, 1.04e+03, 157]\n",
      "--------------------\n",
      "Approx. kinetic energy:\t [99.2, 126, 117]\n",
      "Kinect energy:\t\t [101, 127, 118]\n",
      "--------------------\n",
      "Approx. kinetic energy:\t [97.9, 97.2, 101]\n",
      "Kinect energy:\t\t [97.9, 97.2, 101]\n",
      "--------------------\n",
      "Approx. kinetic energy:\t [34.7, 42.9, 46.6]\n",
      "Kinect energy:\t\t [34.7, 42.9, 46.6]\n",
      "--------------------\n",
      "Approx. kinetic energy:\t [12.5, 11.8, 11.5]\n",
      "Kinect energy:\t\t [12.5, 11.8, 11.5]\n",
      "--------------------\n",
      "event: 5\n",
      "Approx. kinetic energy:\t [156, 179, 231]\n",
      "Kinect energy:\t\t [170, 395, 238]\n",
      "--------------------\n",
      "Approx. kinetic energy:\t [3.58e+04, 12.1, 0]\n",
      "Kinect energy:\t\t [3.58e+04, 12.1, -999]\n",
      "--------------------\n",
      "Approx. kinetic energy:\t [-0, 414, 975]\n",
      "Kinect energy:\t\t [-1e+05, 414, 975]\n",
      "--------------------\n",
      "event: 6\n",
      "Approx. kinetic energy:\t [370, 402, 360]\n",
      "Kinect energy:\t\t [364, 404, 365]\n",
      "--------------------\n",
      "Approx. kinetic energy:\t [202, 3.68e+03, 839]\n",
      "Kinect energy:\t\t [191, 3.68e+03, 842]\n",
      "--------------------\n",
      "event: 7\n",
      "Approx. kinetic energy:\t [0, 51.8, -0]\n",
      "Kinect energy:\t\t [-999, 51.8, -1e+05]\n",
      "--------------------\n"
     ]
    }
   ],
   "source": [
    "for ev in data[0:7]:\n",
    "    # # use this to debug :)\n",
    "    # if ev[\"ntracks_pandoraTrack\"] > 0:\n",
    "    #     print(ev[\"trkpitchc_pandoraTrack\"])\n",
    "    #     print(set(ev[\"trkdqdx_pandoraTrack\"][0][:][2].to_list()))\n",
    "\n",
    "    if ev[\"ntracks_pandoraTrack\"] > 0:\n",
    "        print(f'event: {ev[\"event\"]}')\n",
    "        for trackpitch, trackdqdx, trackdedx, trackke in zip(ev[\"trkpitchc_pandoraTrack\"], ev[\"trkdqdx_pandoraTrack\"], ev[\"trkdedx_pandoraTrack\"], ev[\"trkke_pandoraTrack\"]):\n",
    "            # totalQ = np.sum(trackdqdx, axis=-1)*trackpitch\n",
    "            totalE = np.sum(trackdedx, axis=-1)*trackpitch\n",
    "            print(f'Approx. kinetic energy:\\t {totalE}')\n",
    "            print(f'Kinect energy:\\t\\t {trackke}')\n",
    "            print(\"-\"*20)"
   ]
  },
  {
   "cell_type": "code",
   "execution_count": 9,
   "id": "b51ca232-0b52-443c-b07a-bcfde29d74ba",
   "metadata": {
    "collapsed": false
   },
   "outputs": [
    {
     "name": "stdout",
     "output_type": "stream",
     "text": [
      "/home/henrique/Documents/cernbox/Atmos_Pandora/for_mathilde/AnaTree\r\n"
     ]
    }
   ],
   "source": [
    "!pwd"
   ]
  }
 ],
 "metadata": {
  "kernelspec": {
   "argv": [
    "/usr/bin/python3",
    "-m",
    "ipykernel_launcher",
    "-f",
    "{connection_file}"
   ],
   "display_name": "Python 3 (ipykernel)",
   "env": null,
   "interrupt_mode": "signal",
   "language": "python",
   "metadata": {
    "debugger": true
   },
   "name": "python3"
  },
  "language_info": {
   "codemirror_mode": {
    "name": "ipython",
    "version": 3
   },
   "file_extension": ".py",
   "mimetype": "text/x-python",
   "name": "python",
   "nbconvert_exporter": "python",
   "pygments_lexer": "ipython3",
   "version": "3.10.6"
  },
  "name": "reading.ipynb"
 },
 "nbformat": 4,
 "nbformat_minor": 2
}
